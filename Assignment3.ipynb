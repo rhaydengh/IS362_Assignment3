{
 "cells": [
  {
   "cell_type": "markdown",
   "metadata": {},
   "source": [
    " # Assignment3:\n",
    " ##  Suppose you have ridden a bicycle from New York City to Key West, Florida. Create a pandas Series object that holds the cumulative miles at the end of each day, then use your Python skills to show the total miles that you rode each day. "
   ]
  },
  {
   "cell_type": "markdown",
   "metadata": {},
   "source": [
    "## Part I: Series object showing cumulative miles."
   ]
  },
  {
   "cell_type": "code",
   "execution_count": 118,
   "metadata": {},
   "outputs": [
    {
     "name": "stdout",
     "output_type": "stream",
     "text": [
      "         Date  Miles\n",
      "0  2017-07-01     49\n",
      "1  2017-07-02    109\n",
      "2  2017-07-03    162\n",
      "3  2017-07-04    213\n",
      "4  2017-07-05    263\n",
      "5  2017-07-06    314\n",
      "6  2017-07-07    371\n",
      "7  2017-07-08    424\n",
      "8  2017-07-09    472\n",
      "9  2017-07-10    525\n",
      "10 2017-07-11    575\n",
      "11 2017-07-12    625\n",
      "12 2017-07-13    670\n",
      "13 2017-07-14    729\n",
      "14 2017-07-15    776\n",
      "15 2017-07-16    832\n",
      "16 2017-07-17    876\n",
      "17 2017-07-18    919\n",
      "18 2017-07-19    965\n",
      "19 2017-07-20   1008\n",
      "20 2017-07-21   1068\n",
      "21 2017-07-22   1127\n",
      "22 2017-07-23   1172\n",
      "23 2017-07-24   1218\n"
     ]
    }
   ],
   "source": [
    "import numpy as np\n",
    "import pandas as pd\n",
    "from pandas import DataFrame, Series\n",
    "\n",
    "pd.set_option('display.notebook_repr_html', False) \n",
    "pd.set_option('display.max_columns', 10) \n",
    "pd.set_option('display.max_rows', 30)\n",
    "\n",
    "dates = pd.date_range('2017-07-01', '2017-07-24')\n",
    "\n",
    "miles = Series([49,109,162,213,263,314,371,424,472,525,575,\n",
    "                625,670,729,776,832,876,919,965,1008,1068,1127,1172,1218])\n",
    "\n",
    "data = DataFrame({'Miles': miles, 'Date':dates})\n",
    "print(data)"
   ]
  },
  {
   "cell_type": "markdown",
   "metadata": {},
   "source": [
    "## Part II: Show the total miles that you rode each day."
   ]
  },
  {
   "cell_type": "code",
   "execution_count": 146,
   "metadata": {},
   "outputs": [
    {
     "name": "stdout",
     "output_type": "stream",
     "text": [
      "July 2 : 60\n",
      "July 3 : 53\n",
      "July 4 : 51\n",
      "July 5 : 50\n",
      "July 6 : 51\n",
      "July 7 : 57\n",
      "July 8 : 53\n",
      "July 9 : 48\n",
      "July 10 : 53\n",
      "July 11 : 50\n",
      "July 12 : 50\n",
      "July 13 : 45\n",
      "July 14 : 59\n",
      "July 15 : 47\n",
      "July 16 : 56\n",
      "July 17 : 44\n",
      "July 18 : 43\n",
      "July 19 : 46\n",
      "July 20 : 43\n",
      "July 21 : 60\n",
      "July 22 : 59\n",
      "July 23 : 45\n",
      "July 24 : 46\n",
      "July 1: 49\n"
     ]
    }
   ],
   "source": [
    "import numpy as np\n",
    "import pandas as pd\n",
    "from pandas import DataFrame, Series\n",
    "\n",
    "pd.set_option('display.notebook_repr_html', False) \n",
    "pd.set_option('display.max_columns', 10) \n",
    "pd.set_option('display.max_rows', 30)\n",
    "\n",
    "dates = pd.date_range('2017-07-01', '2017-07-24')\n",
    "\n",
    "miles = Series([49,109,162,213,263,314,371,424,472,525,575,\n",
    "                625,670,729,776,832,876,919,965,1008,1068,1127,1172,1218])\n",
    "data = DataFrame({'Miles': miles, 'Date':dates})\n",
    "\n",
    "n = 0\n",
    "for num in miles:\n",
    "    try:\n",
    "        n+=1\n",
    "        thisday=miles[n]-miles[n-1]\n",
    "    except:\n",
    "        IndexError\n",
    "        if miles[n-1]<0:\n",
    "            print('July 1:',miles[0])\n",
    "        else:\n",
    "            continue\n",
    "    print('July',n+1,':', thisday)\n",
    "print('July 1:',miles[0])\n"
   ]
  }
 ],
 "metadata": {
  "kernelspec": {
   "display_name": "Python 3",
   "language": "python",
   "name": "python3"
  },
  "language_info": {
   "codemirror_mode": {
    "name": "ipython",
    "version": 3
   },
   "file_extension": ".py",
   "mimetype": "text/x-python",
   "name": "python",
   "nbconvert_exporter": "python",
   "pygments_lexer": "ipython3",
   "version": "3.6.3"
  }
 },
 "nbformat": 4,
 "nbformat_minor": 2
}
